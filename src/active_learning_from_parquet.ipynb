{
 "cells": [
  {
   "cell_type": "code",
   "execution_count": 1,
   "metadata": {
    "vscode": {
     "languageId": "plaintext"
    }
   },
   "outputs": [
    {
     "name": "stderr",
     "output_type": "stream",
     "text": [
      "2024-01-15 10:21:19.631127: I tensorflow/core/util/port.cc:110] oneDNN custom operations are on. You may see slightly different numerical results due to floating-point round-off errors from different computation orders. To turn them off, set the environment variable `TF_ENABLE_ONEDNN_OPTS=0`.\n",
      "2024-01-15 10:21:19.633085: I tensorflow/tsl/cuda/cudart_stub.cc:28] Could not find cuda drivers on your machine, GPU will not be used.\n",
      "2024-01-15 10:21:19.672667: I tensorflow/tsl/cuda/cudart_stub.cc:28] Could not find cuda drivers on your machine, GPU will not be used.\n",
      "2024-01-15 10:21:19.674149: I tensorflow/core/platform/cpu_feature_guard.cc:182] This TensorFlow binary is optimized to use available CPU instructions in performance-critical operations.\n",
      "To enable the following instructions: AVX2 AVX512F AVX512_VNNI FMA, in other operations, rebuild TensorFlow with the appropriate compiler flags.\n",
      "2024-01-15 10:21:20.689621: W tensorflow/compiler/tf2tensorrt/utils/py_utils.cc:38] TF-TRT Warning: Could not find TensorRT\n"
     ]
    }
   ],
   "source": [
    "from pathlib import Path\n",
    "\n",
    "from inference_parquet import process_embeddings\n",
    "from train_linear_model_slim import train_and_save\n",
    "from active_learning_from_parquet import plot_logits"
   ]
  },
  {
   "cell_type": "code",
   "execution_count": 6,
   "metadata": {
    "vscode": {
     "languageId": "plaintext"
    }
   },
   "outputs": [
    {
     "name": "stdout",
     "output_type": "stream",
     "text": [
      "True\n",
      "True\n",
      "True\n",
      "True\n",
      "True\n"
     ]
    }
   ],
   "source": [
    "unlabelled_source = \"/mnt/input\"\n",
    "labelled_source = \"/mnt/labelled\"\n",
    "model_output_file = \"/mnt/output/pw_model.keras\"\n",
    "embeddings_dir = \"/mnt/embeddings/\"\n",
    "search_results_file = \"/mnt/output/search_results.csv\"\n",
    "\n",
    "skip_if_file_exists = True\n",
    "embedding_model_version = 4\n",
    "\n",
    "print(Path(unlabelled_source).exists())\n",
    "print(Path(labelled_source).exists())\n",
    "print(Path(model_output_file).parent.exists())\n",
    "print(Path(embeddings_dir).exists())\n",
    "print(Path(search_results_file).parent.exists())\n",
    "\n",
    "\n"
   ]
  },
  {
   "cell_type": "code",
   "execution_count": 4,
   "metadata": {
    "vscode": {
     "languageId": "plaintext"
    }
   },
   "outputs": [
    {
     "name": "stdout",
     "output_type": "stream",
     "text": [
      "Embedding from Folder of Folders...\n"
     ]
    },
    {
     "name": "stderr",
     "output_type": "stream",
     "text": [
      "  0%|          | 0/16 [00:00<?, ?it/s]2024-01-15 10:21:41.920441: I tensorflow/compiler/xla/service/service.cc:168] XLA service 0x55e5049a16f0 initialized for platform Host (this does not guarantee that XLA will be used). Devices:\n",
      "2024-01-15 10:21:41.920501: I tensorflow/compiler/xla/service/service.cc:176]   StreamExecutor device (0): Host, Default Version\n",
      "2024-01-15 10:21:42.235458: I tensorflow/compiler/mlir/tensorflow/utils/dump_mlir_util.cc:255] disabling MLIR crash reproducer, set env var `MLIR_CRASH_REPRODUCER_DIRECTORY` to enable.\n",
      "2024-01-15 10:21:42.241924: W tensorflow/compiler/tf2xla/kernels/assert_op.cc:38] Ignoring Assert operator jax2tf_infer_fn_/assert_equal_1/Assert/AssertGuard/Assert\n",
      "2024-01-15 10:21:44.823900: I ./tensorflow/compiler/jit/device_compiler.h:186] Compiled cluster using XLA!  This line is logged at most once for the lifetime of the process.\n",
      "  6%|▋         | 1/16 [00:12<03:11, 12.79s/it]2024-01-15 10:21:47.282711: W tensorflow/compiler/tf2xla/kernels/assert_op.cc:38] Ignoring Assert operator jax2tf_infer_fn_/assert_equal_1/Assert/AssertGuard/Assert\n",
      "100%|██████████| 16/16 [00:35<00:00,  2.23s/it]\n",
      "100%|██████████| 16/16 [00:18<00:00,  1.19s/it]\n",
      "100%|██████████| 14/14 [00:16<00:00,  1.19s/it]\n"
     ]
    },
    {
     "name": "stdout",
     "output_type": "stream",
     "text": [
      "\n",
      "...embedded dataset in 71.47s...\n",
      "    found 3 classes.\n",
      "    class neg / 0 : 16\n",
      "    class pos / 1 : 16\n",
      "    class unknown_cgw / 2 : 14\n",
      "num classes : 3\n",
      "mean ex / class : 15.333333333333334\n",
      "min ex / class : 14.0\n",
      "acc: 0.82, auc_roc: 0.96, cmap: 0.95\n",
      "\n",
      "neg     , auc_roc: 0.89\n",
      "test_logits(neg) : \tshape:             (4,)\tmin:  -0.51\tmean:   0.50\tmax:   1.37\tstd:   0.76\n",
      "\n",
      "pos     , auc_roc: 1.00\n",
      "test_logits(pos) : \tshape:             (4,)\tmin:  -0.64\tmean:   0.40\tmax:   1.53\tstd:   0.88\n",
      "\n",
      "unknown_cgw, auc_roc: 1.00\n",
      "test_logits(unknown_cgw) : \tshape:             (3,)\tmin:   1.36\tmean:   1.58\tmax:   1.72\tstd:   0.16\n",
      "<keras.src.engine.sequential.Sequential object at 0x7f8cb4556500>\n"
     ]
    }
   ],
   "source": [
    "\n",
    "\n",
    "if skip_if_file_exists and Path(model_output_file).exists() and Path(model_output_file + '.labels.json').exists():\n",
    "    classifier_model = model_output_file\n",
    "    with open(model_output_file + '.labels.json', 'r') as file:\n",
    "        labels = json.load(file)\n",
    "else:\n",
    "    classifier_model, labels = train_and_save(labelled_source, model_output_file, embedding_model_version)"
   ]
  },
  {
   "cell_type": "code",
   "execution_count": null,
   "metadata": {
    "vscode": {
     "languageId": "plaintext"
    }
   },
   "outputs": [],
   "source": [
    "if skip_if_file_exists and Path(search_results_file).exists():\n",
    "    inference_results = pd.read_csv(search_results_file)\n",
    "else:\n",
    "    inference_results = process_embeddings(embeddings_dir, classifier_model, search_results_file, labels)"
   ]
  },
  {
   "cell_type": "code",
   "execution_count": null,
   "metadata": {
    "vscode": {
     "languageId": "plaintext"
    }
   },
   "outputs": [],
   "source": [
    "plot_logits(inference_results, target_class = \"pos\", target_logit = None)"
   ]
  },
  {
   "cell_type": "code",
   "execution_count": null,
   "metadata": {
    "vscode": {
     "languageId": "plaintext"
    }
   },
   "outputs": [],
   "source": [
    "display_search_results(inference_results, labels, target_label='pos')"
   ]
  }
 ],
 "metadata": {
  "kernelspec": {
   "display_name": "Python 3 (ipykernel)",
   "language": "python",
   "name": "python3"
  },
  "language_info": {
   "codemirror_mode": {
    "name": "ipython",
    "version": 3
   },
   "file_extension": ".py",
   "mimetype": "text/x-python",
   "name": "python",
   "nbconvert_exporter": "python",
   "pygments_lexer": "ipython3",
   "version": "3.10.13"
  }
 },
 "nbformat": 4,
 "nbformat_minor": 4
}
